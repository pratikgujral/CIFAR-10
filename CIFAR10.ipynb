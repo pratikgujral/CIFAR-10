{
 "cells": [
  {
   "cell_type": "markdown",
   "metadata": {},
   "source": [
    "**Loading the dataset**\n",
    "We use the *pickle* library to read the data."
   ]
  },
  {
   "cell_type": "code",
   "execution_count": 4,
   "metadata": {},
   "outputs": [],
   "source": [
    "def unpickle(filename):\n",
    "    import pickle\n",
    "    with open(filename, 'rb') as fo:\n",
    "        dict = pickle.load(fo, encoding='bytes')\n",
    "    return dict"
   ]
  },
  {
   "cell_type": "code",
   "execution_count": null,
   "metadata": {},
   "outputs": [],
   "source": [
    "def data_loss(x, W, y):\n",
    "    '''Computes the SVM loss using a linear classifier.\n",
    "    W --> A (10x3073) Weight Matrix including the bias term\n",
    "    x --> A matrix in which each image of the training set is flattened out as a column vector. \n",
    "        Hence, if the dataset has 10,000 images, x is a (3073 x 10000) matrix\n",
    "    y --> Index of true class label values between 0 to 9 representing each of the 10 classes of CIFAR-10. This will be a \n",
    "        (1x10000) row vector'''\n",
    "    \n",
    "    # Computing the scores\n",
    "    scores = np.dot(W, x) # scores will be a (10x10000) matrix representing score for each class for each training example.\n",
    "    \n",
    "    for i in range(10000):\n",
    "        scores[:, i] = scores[:, i] - scores[y[i], i] + 1\n",
    "\n",
    "    loss_i = np.sum(np.maximum(0,scores)/10000)\n",
    "    return loss_i"
   ]
  },
  {
   "cell_type": "code",
   "execution_count": null,
   "metadata": {},
   "outputs": [],
   "source": [
    "def regularization_loss(W):\n",
    "    return np.sum(np.square(W))"
   ]
  },
  {
   "cell_type": "markdown",
   "metadata": {},
   "source": [
    "Loading the first batch and exploring the dataset."
   ]
  },
  {
   "cell_type": "code",
   "execution_count": 8,
   "metadata": {},
   "outputs": [
    {
     "name": "stdout",
     "output_type": "stream",
     "text": [
      "dict_keys([b'batch_label', b'labels', b'data', b'filenames'])\n",
      "Total number of labels:  10000\n",
      "Datatype of labels:  <class 'list'>\n",
      "First five labels: [6, 9, 9, 4, 1]\n",
      "\n",
      "\n",
      "10000\n",
      "<class 'numpy.ndarray'>\n",
      "(10000, 3072)\n",
      "[[ 59  43  50 ... 140  84  72]\n",
      " [154 126 105 ... 139 142 144]\n",
      " [255 253 253 ...  83  83  84]\n",
      " [ 28  37  38 ...  28  37  46]\n",
      " [170 168 177 ...  82  78  80]]\n"
     ]
    }
   ],
   "source": [
    "data = unpickle('cifar-10-batches-py/data_batch_1')\n",
    "print(data.keys())\n",
    "print('Total number of labels: ', len(data[b'labels']))\n",
    "print('Datatype of labels: ', type(data[b'labels']))\n",
    "print('First five labels:', data[b'labels'][:5])\n",
    "print('\\n')\n",
    "\n",
    "print(len(data[b'data']))\n",
    "print(type(data[b'data']))\n",
    "print(data[b'data'].shape)\n",
    "print(data[b'data'][:5])"
   ]
  },
  {
   "cell_type": "code",
   "execution_count": null,
   "metadata": {},
   "outputs": [],
   "source": []
  },
  {
   "cell_type": "code",
   "execution_count": null,
   "metadata": {},
   "outputs": [],
   "source": []
  },
  {
   "cell_type": "code",
   "execution_count": 10,
   "metadata": {},
   "outputs": [],
   "source": [
    "import numpy as np"
   ]
  },
  {
   "cell_type": "code",
   "execution_count": 32,
   "metadata": {},
   "outputs": [
    {
     "name": "stdout",
     "output_type": "stream",
     "text": [
      "[[  1   2   3   4]\n",
      " [ 10  20  30  40]\n",
      " [100 200 300 400]]\n",
      "\n",
      "\n",
      "\n",
      "[[  -9 -198    0  -36]\n",
      " [   0 -180   27    0]\n",
      " [  90    0  297  360]]\n",
      "\n",
      "\n",
      "\n",
      "[[  0   0   0   0]\n",
      " [  0   0  27   0]\n",
      " [ 90   0 297 360]]\n",
      "\n",
      "\n",
      "\n",
      "774\n"
     ]
    }
   ],
   "source": [
    "temp = np.array([[1,2,3,4],[10,20,30,40], [100,200,300,400]])\n",
    "print(temp)\n",
    "print('\\n\\n')\n",
    "\n",
    "b = [1,2,0,1]\n",
    "for i in range(4):\n",
    "    temp[:, i] = temp[:, i] - temp[b[i], i]\n",
    "print(temp)\n",
    "print('\\n\\n')\n",
    "print(np.maximum(0, temp))\n",
    "\n",
    "print('\\n\\n')\n",
    "print(np.sum(np.maximum(0, temp)))"
   ]
  },
  {
   "cell_type": "code",
   "execution_count": 35,
   "metadata": {},
   "outputs": [
    {
     "data": {
      "text/plain": [
       "299619"
      ]
     },
     "execution_count": 35,
     "metadata": {},
     "output_type": "execute_result"
    }
   ],
   "source": [
    "np.sum(np.square(temp))"
   ]
  }
 ],
 "metadata": {
  "kernelspec": {
   "display_name": "Python 3",
   "language": "python",
   "name": "python3"
  },
  "language_info": {
   "codemirror_mode": {
    "name": "ipython",
    "version": 3
   },
   "file_extension": ".py",
   "mimetype": "text/x-python",
   "name": "python",
   "nbconvert_exporter": "python",
   "pygments_lexer": "ipython3",
   "version": "3.6.4"
  }
 },
 "nbformat": 4,
 "nbformat_minor": 2
}
