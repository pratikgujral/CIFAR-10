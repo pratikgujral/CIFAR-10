{
 "cells": [
  {
   "cell_type": "code",
   "execution_count": 1,
   "metadata": {},
   "outputs": [],
   "source": [
    "import numpy as np"
   ]
  },
  {
   "cell_type": "markdown",
   "metadata": {},
   "source": [
    "**Loading the dataset**\n",
    "We use the *pickle* library to read the data."
   ]
  },
  {
   "cell_type": "code",
   "execution_count": 2,
   "metadata": {},
   "outputs": [],
   "source": [
    "def load_data(filename):\n",
    "    import pickle\n",
    "    with open(filename, 'rb') as fo:\n",
    "        dataset_dict = pickle.load(fo, encoding='bytes')\n",
    "        X_data = np.transpose(dataset_dict[b'data'])\n",
    "        Y_labels = dataset_dict[b'labels']\n",
    "        return (X_data, Y_labels)"
   ]
  },
  {
   "cell_type": "code",
   "execution_count": 3,
   "metadata": {},
   "outputs": [],
   "source": [
    "def SVM_dataloss(x, y, W, delta=1.0):\n",
    "    scores = np.dot(W,x)\n",
    "    correct_scores = np.choose(y, scores)\n",
    "    margins = np.maximum(0, scores - correct_scores + delta)\n",
    "    margins[y, np.arange(margins.shape[1])] = 0\n",
    "    loss_each_train = np.sum(margins, axis=0)\n",
    "    total_loss = np.sum(loss_each_train/ len(y))\n",
    "    return (margins, loss_each_train, total_loss)"
   ]
  },
  {
   "cell_type": "code",
   "execution_count": 4,
   "metadata": {},
   "outputs": [],
   "source": [
    "def L2_regularization(W):\n",
    "    '''Returns the L2 Regularization loss for the input weight matrix'''\n",
    "    return np.sum(np.square(W))"
   ]
  },
  {
   "cell_type": "markdown",
   "metadata": {},
   "source": [
    "**Loading the first batch of dataset**"
   ]
  },
  {
   "cell_type": "code",
   "execution_count": 5,
   "metadata": {},
   "outputs": [],
   "source": [
    "X_train, Y_labels = load_data('cifar-10-batches-py/data_batch_1')"
   ]
  },
  {
   "cell_type": "code",
   "execution_count": 6,
   "metadata": {},
   "outputs": [
    {
     "data": {
      "text/plain": [
       "(10, 3072)"
      ]
     },
     "execution_count": 6,
     "metadata": {},
     "output_type": "execute_result"
    }
   ],
   "source": [
    "W = np.random.randn(10,3072) * 0.01\n",
    "W.shape"
   ]
  },
  {
   "cell_type": "code",
   "execution_count": null,
   "metadata": {},
   "outputs": [],
   "source": []
  }
 ],
 "metadata": {
  "kernelspec": {
   "display_name": "Python 3",
   "language": "python",
   "name": "python3"
  },
  "language_info": {
   "codemirror_mode": {
    "name": "ipython",
    "version": 3
   },
   "file_extension": ".py",
   "mimetype": "text/x-python",
   "name": "python",
   "nbconvert_exporter": "python",
   "pygments_lexer": "ipython3",
   "version": "3.6.4"
  }
 },
 "nbformat": 4,
 "nbformat_minor": 2
}
